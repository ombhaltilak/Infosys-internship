{
 "cells": [
  {
   "cell_type": "code",
   "execution_count": 1,
   "id": "0eac5982-ec81-40d8-8392-28ed45af178b",
   "metadata": {},
   "outputs": [],
   "source": [
    "import easyocr"
   ]
  },
  {
   "cell_type": "code",
   "execution_count": 2,
   "id": "a9392c45-0511-4c49-8721-2d9cdcd1517e",
   "metadata": {},
   "outputs": [],
   "source": [
    "from ultralytics import YOLO\n",
    "import cv2"
   ]
  },
  {
   "cell_type": "code",
   "execution_count": 3,
   "id": "37caf090-a2d3-4263-ad2a-a24f7b393a53",
   "metadata": {},
   "outputs": [],
   "source": [
    "model = YOLO(\"C:\\\\Users\\\\om\\\\Desktop\\\\INFOSYS_INTERNSHIP\\\\DETECTION_MODEL\\\\detect\\\\train\\\\weights\\\\best.pt\")  # load a custom model\n"
   ]
  },
  {
   "cell_type": "code",
   "execution_count": 4,
   "id": "175411b5-65b0-49f2-8697-bcc133358c3b",
   "metadata": {},
   "outputs": [
    {
     "name": "stderr",
     "output_type": "stream",
     "text": [
      "Neither CUDA nor MPS are available - defaulting to CPU. Note: This module is much faster with a GPU.\n"
     ]
    }
   ],
   "source": [
    "reader=easyocr.Reader(['en'])"
   ]
  },
  {
   "cell_type": "code",
   "execution_count": 15,
   "id": "7978983a-5437-4a82-885e-c20d89b59c83",
   "metadata": {},
   "outputs": [
    {
     "name": "stdout",
     "output_type": "stream",
     "text": [
      "\n",
      "image 1/1 C:\\Users\\om\\Desktop\\SR2.jpg: 640x480 1 name, 2 uids, 2 addresss, 235.9ms\n",
      "Speed: 8.8ms preprocess, 235.9ms inference, 2.1ms postprocess per image at shape (1, 3, 640, 480)\n"
     ]
    }
   ],
   "source": [
    "img_path =r\"C:\\\\Users\\\\om\\\\Desktop\\\\SR2.jpg\"\n",
    "results=model(img_path)"
   ]
  },
  {
   "cell_type": "code",
   "execution_count": 17,
   "id": "3d453e71-501d-4dda-ad44-b3847e0c788f",
   "metadata": {},
   "outputs": [],
   "source": [
    "import numpy as np\n",
    "image = cv2.imread(img_path)  # Assuming image_path is defined\n",
    "extracted_data = {}"
   ]
  },
  {
   "cell_type": "code",
   "execution_count": 19,
   "id": "198ad691-6edf-4312-ba8f-c4b19c7228b7",
   "metadata": {},
   "outputs": [],
   "source": [
    "\n",
    "# Iterate through detections\n",
    "for result in results[0].boxes.data.tolist():  # results[0].boxes.data contains bounding box details\n",
    "    x1, y1, x2, y2, confidence, class_id = map(int, result[:6])\n",
    "    field_class = model.names[class_id]  # Get class name (e.g., 'Name', 'UID', 'Address')\n",
    "\n",
    "    # Crop the detected region\n",
    "    cropped_roi = image[y1:y2, x1:x2]\n",
    "\n",
    "    # Convert cropped ROI to grayscale for OCR\n",
    "    gray_roi = cv2.cvtColor(cropped_roi, cv2.COLOR_BGR2GRAY)\n",
    "\n",
    "    # Use EasyOCR to extract text\n",
    "    text = reader.readtext(gray_roi, detail=0)  # detail=0 returns only the text\n",
    "\n",
    "    # Save the text to the extracted_data dictionary\n",
    "    extracted_data[field_class] = ' '.join(text)  # Combine detected text if multiple lines\n",
    "\n"
   ]
  },
  {
   "cell_type": "code",
   "execution_count": 20,
   "id": "b4d48650-758b-4a58-9ff9-962182ff2fe3",
   "metadata": {},
   "outputs": [
    {
     "name": "stdout",
     "output_type": "stream",
     "text": [
      "Extracted Data: {'address': 'WIO Bhavesh Shah E-707 Godrej Prana Kondhwa Saswad Road Undari Near Tata Inora Undari (part) (n.v.) Mohamadwadi Pune Maharashtra 411060', 'uid': '8563 6445 4912', 'name': 'Pooja Bhavesh Shah'}\n"
     ]
    }
   ],
   "source": [
    "# Print the extracted fields\n",
    "print(\"Extracted Data:\", extracted_data)"
   ]
  },
  {
   "cell_type": "code",
   "execution_count": null,
   "id": "168442f0-37b9-4229-acb1-173d64949794",
   "metadata": {},
   "outputs": [],
   "source": []
  }
 ],
 "metadata": {
  "kernelspec": {
   "display_name": "Python 3 (ipykernel)",
   "language": "python",
   "name": "python3"
  },
  "language_info": {
   "codemirror_mode": {
    "name": "ipython",
    "version": 3
   },
   "file_extension": ".py",
   "mimetype": "text/x-python",
   "name": "python",
   "nbconvert_exporter": "python",
   "pygments_lexer": "ipython3",
   "version": "3.12.4"
  }
 },
 "nbformat": 4,
 "nbformat_minor": 5
}
